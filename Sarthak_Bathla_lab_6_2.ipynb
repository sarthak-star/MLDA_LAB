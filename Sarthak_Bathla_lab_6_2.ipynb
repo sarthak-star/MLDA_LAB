{
  "cells": [
    {
      "cell_type": "markdown",
      "metadata": {
        "id": "6UuwBHeUQLSH"
      },
      "source": [
        "# Sarthak Bathla  ( 04114803121 )\n",
        "## Q2) Write your own implementation for knn with 4 different distance metrics and check on Iris dataset."
      ]
    },
    {
      "cell_type": "markdown",
      "metadata": {
        "id": "rg7x2JfAQVnb"
      },
      "source": [
        "### Importing required libraries"
      ]
    },
    {
      "cell_type": "code",
      "execution_count": 1,
      "metadata": {
        "id": "8MKSXBvPQJ7g"
      },
      "outputs": [],
      "source": [
        "import numpy as np\n",
        "from sklearn.datasets import load_iris\n",
        "from sklearn.model_selection import train_test_split\n",
        "from sklearn.metrics import accuracy_score\n",
        "import matplotlib.pyplot as plt"
      ]
    },
    {
      "cell_type": "markdown",
      "metadata": {
        "id": "kIz6zcVrQdnR"
      },
      "source": [
        "### Making a KNN class to define my own KNN model implementation"
      ]
    },
    {
      "cell_type": "code",
      "execution_count": 2,
      "metadata": {
        "id": "lxWiOycSQYxq"
      },
      "outputs": [],
      "source": [
        "class KNN:\n",
        "    def __init__(self, k=3, distance_metric='euclidean'):\n",
        "        self.k = k\n",
        "        self.distance_metric = distance_metric\n",
        "\n",
        "    def fit(self, X_train, y_train):\n",
        "        self.X_train = X_train\n",
        "        self.y_train = y_train\n",
        "\n",
        "    def _euclidean_distance(self, x1, x2):\n",
        "        return np.sqrt(np.sum((x1 - x2) ** 2))\n",
        "\n",
        "    def _manhattan_distance(self, x1, x2):\n",
        "        return np.sum(np.abs(x1 - x2))\n",
        "\n",
        "    def _chebyshev_distance(self, x1, x2):\n",
        "        return np.max(np.abs(x1 - x2))\n",
        "\n",
        "    def _minkowski_distance(self, x1, x2, p):\n",
        "        return np.sum(np.abs(x1 - x2) ** p) ** (1 / p)\n",
        "\n",
        "    def _get_distance(self, x1, x2):\n",
        "        if self.distance_metric == 'euclidean':\n",
        "            return self._euclidean_distance(x1, x2)\n",
        "        elif self.distance_metric == 'manhattan':\n",
        "            return self._manhattan_distance(x1, x2)\n",
        "        elif self.distance_metric == 'chebyshev':\n",
        "            return self._chebyshev_distance(x1, x2)\n",
        "        elif self.distance_metric == 'minkowski':\n",
        "            return self._minkowski_distance(x1, x2, p=2)  # p=2 for Euclidean distance\n",
        "        else:\n",
        "            raise ValueError(\"Invalid distance metric. Please choose from 'euclidean', 'manhattan', 'chebyshev', or 'minkowski'.\")\n",
        "\n",
        "    def predict(self, X_test):\n",
        "        predictions = []\n",
        "        for x in X_test:\n",
        "            distances = []\n",
        "            for i, x_train in enumerate(self.X_train):\n",
        "                distance = self._get_distance(x, x_train)\n",
        "                distances.append((self.y_train[i], distance))\n",
        "            distances.sort(key=lambda x: x[1])\n",
        "            neighbors = [dist[0] for dist in distances[:self.k]]\n",
        "            prediction = max(set(neighbors), key=neighbors.count)\n",
        "            predictions.append(prediction)\n",
        "        return predictions"
      ]
    },
    {
      "cell_type": "markdown",
      "metadata": {
        "id": "_qdnjhEdQtkf"
      },
      "source": [
        "### Loading the Iris Data and fitting my model on it."
      ]
    },
    {
      "cell_type": "code",
      "execution_count": 8,
      "metadata": {
        "colab": {
          "base_uri": "https://localhost:8080/"
        },
        "id": "DIuCx1ysQnpR",
        "outputId": "a3b8683c-abc4-4c4d-fb1d-dda69dbc7438"
      },
      "outputs": [
        {
          "output_type": "stream",
          "name": "stdout",
          "text": [
            "Shape of X_train: (105, 4)\n",
            "Shape of X_test: (45, 4)\n",
            "Shape of y_train: (105,)\n",
            "Shape of y_test: (45,)\n"
          ]
        }
      ],
      "source": [
        "iris = load_iris()\n",
        "X = iris.data\n",
        "y = iris.target\n",
        "\n",
        "# Split the dataset into training and testing sets\n",
        "X_train, X_test, y_train, y_test = train_test_split(X, y, test_size=0.3, random_state=42)\n",
        "print(\"Shape of X_train:\", X_train.shape)\n",
        "print(\"Shape of X_test:\", X_test.shape)\n",
        "print(\"Shape of y_train:\", y_train.shape)\n",
        "print(\"Shape of y_test:\", y_test.shape)\n",
        "\n",
        "# Define a list of distance metrics\n",
        "distance_metrics = ['euclidean', 'manhattan', 'chebyshev', 'minkowski']\n",
        "\n",
        "# Initialize lists to store accuracy scores for different distance metrics\n",
        "accuracy_scores = []\n",
        "\n",
        "# Iterate over each distance metric\n",
        "for metric in distance_metrics:\n",
        "    # Initialize KNN classifier with the current distance metric\n",
        "    knn = KNN(k=3, distance_metric=metric)\n",
        "\n",
        "    # Fit the classifier to the training data\n",
        "    knn.fit(X_train, y_train)\n",
        "\n",
        "    # Predict the labels for the test set\n",
        "    y_pred = knn.predict(X_test)\n",
        "\n",
        "    # Calculate accuracy score and append to the list\n",
        "    accuracy = accuracy_score(y_test, y_pred)\n",
        "    accuracy_scores.append(accuracy)"
      ]
    },
    {
      "cell_type": "code",
      "source": [
        "for metric, accuracy in zip(distance_metrics, accuracy_scores):\n",
        "    print(f'Accuracy with {metric} distance metric: {accuracy:.4f}')"
      ],
      "metadata": {
        "colab": {
          "base_uri": "https://localhost:8080/"
        },
        "id": "T3Xhn9U6RIuH",
        "outputId": "7566a7ce-b990-4c7b-fc4b-3e7d1ceb989e"
      },
      "execution_count": 7,
      "outputs": [
        {
          "output_type": "stream",
          "name": "stdout",
          "text": [
            "Accuracy with euclidean distance metric: 1.0000\n",
            "Accuracy with manhattan distance metric: 1.0000\n",
            "Accuracy with chebyshev distance metric: 1.0000\n",
            "Accuracy with minkowski distance metric: 1.0000\n"
          ]
        }
      ]
    },
    {
      "cell_type": "markdown",
      "source": [
        "### Plotting a graph to visualize accuracy score on different distance metrics."
      ],
      "metadata": {
        "id": "IWqu8CPcRX2L"
      }
    },
    {
      "cell_type": "code",
      "source": [
        "plt.figure(figsize=(10, 6))\n",
        "plt.bar(distance_metrics, accuracy_scores, color='skyblue')\n",
        "plt.title('Accuracy on Different Distance Metrics')\n",
        "plt.xlabel('Distance Metric')\n",
        "plt.ylabel('Accuracy')\n",
        "plt.ylim(0.8, 1.0)  # Set y-axis limit for better visualization\n",
        "plt.show()"
      ],
      "metadata": {
        "colab": {
          "base_uri": "https://localhost:8080/",
          "height": 564
        },
        "id": "B0Rz80rSRKBe",
        "outputId": "4e7955a9-3dff-4f7e-e308-d63f8f4c20d8"
      },
      "execution_count": 5,
      "outputs": [
        {
          "output_type": "display_data",
          "data": {
            "text/plain": [
              "<Figure size 1000x600 with 1 Axes>"
            ],
            "image/png": "[encoded data removed]"
          },
          "metadata": {}
        }
      ]
    }
  ],
  "metadata": {
    "colab": {
      "provenance": []
    },
    "kernelspec": {
      "display_name": "Python 3",
      "name": "python3"
    },
    "language_info": {
      "name": "python"
    }
  },
  "nbformat": 4,
  "nbformat_minor": 0
}